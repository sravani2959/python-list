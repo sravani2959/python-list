{
  "cells": [
    {
      "cell_type": "markdown",
      "id": "b5fabd6b",
      "metadata": {
        "id": "b5fabd6b"
      },
      "source": [
        "<a href=\"https://www.viharatech.com\"><img src=\"https://miro.medium.com/v2/resize:fit:828/format:webp/1*on2Bpj6A5gfd-CzaFOAZRA.jpeg\"></a>\n",
        "\n",
        "\n",
        "- `Welcome to our interactive learning session! In this Jupyter notebook, you'll find a series of questions related to Python List Concept. To maximize your learning, please write Python code in the cell below each question and execute it. This hands-on practice will help reinforce your understanding of the concepts. Feel free to reach out if you have any questions or need assistance. Happy coding! 💻🐍 `"
      ]
    },
    {
      "cell_type": "markdown",
      "id": "db689fc2",
      "metadata": {
        "id": "db689fc2"
      },
      "source": [
        "### Question 1: Write a Python program to count the number of elements in a list without using len.\n",
        "\n",
        "\n",
        "- `sample input : `\n",
        "    - `var = [10,11,12,13]`\n",
        "- `sample output :`\n",
        "    - `result : 4`"
      ]
    },
    {
      "cell_type": "code",
      "execution_count": null,
      "id": "c9ce9180",
      "metadata": {
        "id": "c9ce9180",
        "colab": {
          "base_uri": "https://localhost:8080/"
        },
        "outputId": "4e98ef90-55dd-41f2-9cbd-ea7dc68c3fa0"
      },
      "outputs": [
        {
          "output_type": "stream",
          "name": "stdout",
          "text": [
            "4\n"
          ]
        }
      ],
      "source": [
        "# Please write The solution Here for above question 1:\n",
        "a=[10,11,12,13]\n",
        "c=0\n",
        "for i in a:\n",
        "  c=c+1\n",
        "print(c)\n",
        "\n",
        "\n",
        "\n",
        "\n"
      ]
    },
    {
      "cell_type": "markdown",
      "id": "46f069cc",
      "metadata": {
        "id": "46f069cc"
      },
      "source": [
        "### Question 2: Write a Python program to find the maximum and minimum values in a given list.\n",
        "\n",
        "- `sample input : `\n",
        "    - `var = [10,11,12,13,14,15]`\n",
        "- `sample output :`\n",
        "    - `result : max = 15 , min = 10`"
      ]
    },
    {
      "cell_type": "code",
      "execution_count": null,
      "id": "2cde3dcc",
      "metadata": {
        "id": "2cde3dcc",
        "colab": {
          "base_uri": "https://localhost:8080/"
        },
        "outputId": "9200c0cf-b517-4522-87ca-503e06f38b9e"
      },
      "outputs": [
        {
          "output_type": "stream",
          "name": "stdout",
          "text": [
            "max 15 ,  min 10\n"
          ]
        }
      ],
      "source": [
        "# Please write The solution Here for above question 2:\n",
        "\n",
        "var=[10,11,12,13,14,15]\n",
        "a=max(var)\n",
        "b=min(var)\n",
        "print(f'max {a} ,  min {b}')\n",
        "\n",
        "\n",
        "\n"
      ]
    },
    {
      "cell_type": "markdown",
      "id": "0f3a2ef5",
      "metadata": {
        "id": "0f3a2ef5"
      },
      "source": [
        "### Question 3: Write a Python program to remove the first occurrence of a specified element from a list.\n",
        "\n",
        "- `sample input : `\n",
        "    - `var = [1,2,3,4,2,5]`\n",
        "- `sample output :`\n",
        "    - `result : [1,3,4,2,5]`\n",
        "    "
      ]
    },
    {
      "cell_type": "code",
      "execution_count": 1,
      "id": "74b9f01a",
      "metadata": {
        "id": "74b9f01a",
        "colab": {
          "base_uri": "https://localhost:8080/"
        },
        "outputId": "54d3bbb7-79b4-4e6f-e8f2-0bbd17e7f14a"
      },
      "outputs": [
        {
          "output_type": "stream",
          "name": "stdout",
          "text": [
            "2\n",
            "[1, 3, 4, 2, 5]\n"
          ]
        }
      ],
      "source": [
        "# Please write The solution Here for above question 3:\n",
        "a=[1,2,3,4,2,5]\n",
        "b=int(input())\n",
        "if b in a:\n",
        "  a.remove(b)\n",
        "print(a)\n",
        "\n",
        "\n"
      ]
    },
    {
      "cell_type": "markdown",
      "id": "98e0fc60",
      "metadata": {
        "id": "98e0fc60"
      },
      "source": [
        "### Question 4: Write a Python program to find the average of all the elements in a list.\n",
        "\n",
        "\n",
        "- `sample input : `\n",
        "    - `var = [1,2,3,4,2,5]`\n",
        "- `sample output :`\n",
        "    - `result : 2.833 `"
      ]
    },
    {
      "cell_type": "code",
      "execution_count": null,
      "id": "5ed30f02",
      "metadata": {
        "id": "5ed30f02"
      },
      "outputs": [],
      "source": [
        "# Please write The solution Here for above question 4:\n",
        "\n",
        "pass\n",
        "\n"
      ]
    },
    {
      "cell_type": "markdown",
      "id": "17eb44eb",
      "metadata": {
        "id": "17eb44eb"
      },
      "source": [
        "### Question 5: Write a Python program to check if a list is empty or not.\n",
        "\n",
        "\n",
        "- `sample input : `\n",
        "    - `var1 = [1,2]`\n",
        "- `sample output :`\n",
        "    - `result : Not empty`\n",
        "    \n",
        "- `sample input : `\n",
        "    - `var1 = []`\n",
        "- `sample output :`\n",
        "    - `result :empty`\n",
        "    \n"
      ]
    },
    {
      "cell_type": "code",
      "execution_count": 24,
      "id": "29f0e87e",
      "metadata": {
        "id": "29f0e87e",
        "colab": {
          "base_uri": "https://localhost:8080/"
        },
        "outputId": "95895f98-8d5a-4fd9-f559-bd0c651c2f28"
      },
      "outputs": [
        {
          "output_type": "stream",
          "name": "stdout",
          "text": [
            "result: empty\n"
          ]
        }
      ],
      "source": [
        "# Please write The solution Here for above question 5:\n",
        "\n",
        "a=[1,2]\n",
        "if i in a:\n",
        "  print(\"result: not empty\")\n",
        "else:\n",
        "  print(\"result: empty\")\n",
        "\n"
      ]
    },
    {
      "cell_type": "markdown",
      "id": "fac17884",
      "metadata": {
        "id": "fac17884"
      },
      "source": [
        "### Question 6:  Write a Python program to find the index of a specified element in a list..\n",
        "\n",
        "- `sample input : `\n",
        "    - `var = [1,2,3,4,2,5]`\n",
        "- `sample output :`\n",
        "    - `result : 3 index is 2`"
      ]
    },
    {
      "cell_type": "code",
      "execution_count": 25,
      "id": "f4b33095",
      "metadata": {
        "id": "f4b33095",
        "colab": {
          "base_uri": "https://localhost:8080/"
        },
        "outputId": "816b1d9c-8163-481d-b365-885a15082d1b"
      },
      "outputs": [
        {
          "output_type": "stream",
          "name": "stdout",
          "text": [
            "result: 3 index is 2\n"
          ]
        }
      ],
      "source": [
        "# Please write The solution Here for above question 6:\n",
        "\n",
        "a=[1,2,3,4,2,5]\n",
        "b=a.index(3)\n",
        "print(f'result: 3 index is {b}')\n"
      ]
    },
    {
      "cell_type": "markdown",
      "id": "2170d6f4",
      "metadata": {
        "id": "2170d6f4"
      },
      "source": [
        "### Question 7: Write a Python program to find which number is palindrome in below given list .\n",
        "\n",
        "- `sample input : `\n",
        "    - `var = [134,121,155]`\n",
        "- `sample output :`\n",
        "    - `result : 134 is not a palindome , 121 is a palindrome `"
      ]
    },
    {
      "cell_type": "code",
      "execution_count": 9,
      "id": "f35de8b3",
      "metadata": {
        "id": "f35de8b3",
        "colab": {
          "base_uri": "https://localhost:8080/"
        },
        "outputId": "7e399d82-1c37-4156-e7ca-c21775eac000"
      },
      "outputs": [
        {
          "output_type": "stream",
          "name": "stdout",
          "text": [
            "not a palindrome: 134\n",
            "palindrome: 121\n",
            "not a palindrome: 155\n"
          ]
        }
      ],
      "source": [
        "# Please write The solution Here for above question 7:\n",
        "\n",
        "var = [134,121,155]\n",
        "for i in var:\n",
        "  a=str(i)\n",
        "  b=a[::-1]\n",
        "  if a==b:\n",
        "    print(f'palindrome: {i}')\n",
        "  else:\n",
        "    print(f'not a palindrome: {i}')\n",
        "\n"
      ]
    },
    {
      "cell_type": "markdown",
      "id": "f349bdb7",
      "metadata": {
        "id": "f349bdb7"
      },
      "source": [
        "### Question 8: Write a Python program to find the common elements between two lists.\n",
        "\n",
        "- `sample input : `\n",
        "    - `var1 = [1,2,3,4,10]`\n",
        "    - `var2 = [10,11,12,14]`\n",
        "- `sample output :`\n",
        "    - `result : 10`"
      ]
    },
    {
      "cell_type": "code",
      "execution_count": 13,
      "id": "a1b4c4e6",
      "metadata": {
        "id": "a1b4c4e6",
        "colab": {
          "base_uri": "https://localhost:8080/"
        },
        "outputId": "676e742c-e24f-4d4f-aebd-061613c86956"
      },
      "outputs": [
        {
          "output_type": "stream",
          "name": "stdout",
          "text": [
            "result:10\n"
          ]
        }
      ],
      "source": [
        "# Please write The solution Here for above question 8:\n",
        "var1 = [1,2,3,4,10]\n",
        "var2 = [10,11,12,14]\n",
        "a=set(var1)\n",
        "b=set(var2)\n",
        "c=list(a.intersection(b))\n",
        "print(f'result:{c[0]}')\n",
        "\n",
        "\n",
        "\n",
        "\n"
      ]
    },
    {
      "cell_type": "markdown",
      "id": "d2770696",
      "metadata": {
        "id": "d2770696"
      },
      "source": [
        "### Question 9: Write a Python program to remove the duplicates from a list\n",
        "\n",
        "- `sample input : `\n",
        "    - `var = [10,11,12,10,12,24]`\n",
        "- `sample output :`\n",
        "    - `result : [10,11,12,24]`"
      ]
    },
    {
      "cell_type": "code",
      "execution_count": 14,
      "id": "7fdc2e9c",
      "metadata": {
        "id": "7fdc2e9c",
        "colab": {
          "base_uri": "https://localhost:8080/"
        },
        "outputId": "2570e580-cd45-4d84-d1cb-ba886315337f"
      },
      "outputs": [
        {
          "output_type": "stream",
          "name": "stdout",
          "text": [
            "result:[10, 11, 12, 24]\n"
          ]
        }
      ],
      "source": [
        "# Please write The solution Here for above question 9:\n",
        "\n",
        "var = [10,11,12,10,12,24]\n",
        "res=[]\n",
        "for i in var:\n",
        "  if i not in res:\n",
        "    res.append(i)\n",
        "print(f'result:{res}')\n",
        "\n",
        "\n"
      ]
    },
    {
      "cell_type": "markdown",
      "id": "5c9a3f09",
      "metadata": {
        "id": "5c9a3f09"
      },
      "source": [
        "### Question 10:  Write a Python program to sort a list of strings in Ascii Order [Ascending order]\n",
        "\n",
        "\n",
        "- `sample input : `\n",
        "    - `var = ['a' , 'c' , 'b']`\n",
        "- `sample output :`\n",
        "    - `result : ['a' , 'b' , 'c']`\n"
      ]
    },
    {
      "cell_type": "code",
      "execution_count": 15,
      "id": "57c0c30e",
      "metadata": {
        "id": "57c0c30e",
        "colab": {
          "base_uri": "https://localhost:8080/"
        },
        "outputId": "ac44aef4-61c1-48a7-a67a-dba9d62bf23a"
      },
      "outputs": [
        {
          "output_type": "stream",
          "name": "stdout",
          "text": [
            "result: ['a', 'b', 'c']\n"
          ]
        }
      ],
      "source": [
        "# Please write The solution Here for above question 10:\n",
        "a=['a' , 'c' , 'b']\n",
        "a=sorted(a)\n",
        "print(f'result: {a}')\n",
        "\n"
      ]
    }
  ],
  "metadata": {
    "kernelspec": {
      "display_name": "Python 3 (ipykernel)",
      "language": "python",
      "name": "python3"
    },
    "language_info": {
      "codemirror_mode": {
        "name": "ipython",
        "version": 3
      },
      "file_extension": ".py",
      "mimetype": "text/x-python",
      "name": "python",
      "nbconvert_exporter": "python",
      "pygments_lexer": "ipython3",
      "version": "3.11.5"
    },
    "colab": {
      "provenance": []
    }
  },
  "nbformat": 4,
  "nbformat_minor": 5
}